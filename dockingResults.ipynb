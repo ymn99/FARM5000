{
 "cells": [
  {
   "cell_type": "code",
   "execution_count": 160,
   "id": "68835f96-8fac-4dc1-9803-86633a409edb",
   "metadata": {},
   "outputs": [],
   "source": [
    "import numpy as np\n",
    "import pandas as pd\n",
    "import matplotlib.pyplot as plt\n",
    "from bokeh.plotting import figure, output_file, show\n",
    "from bokeh.models import LabelSet, HoverTool, ColumnDataSource\n"
   ]
  },
  {
   "cell_type": "code",
   "execution_count": null,
   "id": "8406fedd-ccb9-488e-af19-1f32ac813320",
   "metadata": {},
   "outputs": [],
   "source": [
    "finalMerged = pd.read_csv(\"finalMergedTable.csv\",sep = \",\", decimal = \",\") \n",
    "dockingData = pd.read_csv(\"docking_score.csv\",sep = \";\", decimal = \",\") "
   ]
  },
  {
   "cell_type": "code",
   "execution_count": 14,
   "id": "d3df2210-96b1-4057-a070-27c139573ebf",
   "metadata": {},
   "outputs": [
    {
     "data": {
      "text/plain": [
       "(30, 1)"
      ]
     },
     "execution_count": 14,
     "metadata": {},
     "output_type": "execute_result"
    }
   ],
   "source": [
    "dockingData.shape"
   ]
  },
  {
   "cell_type": "code",
   "execution_count": 15,
   "id": "84ea83d9-ec42-47de-96ee-31544f432552",
   "metadata": {},
   "outputs": [
    {
     "data": {
      "text/html": [
       "<div>\n",
       "<style scoped>\n",
       "    .dataframe tbody tr th:only-of-type {\n",
       "        vertical-align: middle;\n",
       "    }\n",
       "\n",
       "    .dataframe tbody tr th {\n",
       "        vertical-align: top;\n",
       "    }\n",
       "\n",
       "    .dataframe thead th {\n",
       "        text-align: right;\n",
       "    }\n",
       "</style>\n",
       "<table border=\"1\" class=\"dataframe\">\n",
       "  <thead>\n",
       "    <tr style=\"text-align: right;\">\n",
       "      <th></th>\n",
       "      <th>SMILES;ChEMBLID;docking_score</th>\n",
       "    </tr>\n",
       "  </thead>\n",
       "  <tbody>\n",
       "    <tr>\n",
       "      <th>CC(C)c1c(NC(=O)Nc2ccc(Cl)cc2)c(=O)n(-c2ccccc2)n1C;7T6S - prepared_chainR_ligand;-6</th>\n",
       "      <td>78994</td>\n",
       "    </tr>\n",
       "    <tr>\n",
       "      <th>Cn1c(C(C)(C)C)c(NC(=O)Nc2ccc(Cl)cc2)c(=O)n1-c1ccccc1;CHEMBL377226;-6</th>\n",
       "      <td>45746</td>\n",
       "    </tr>\n",
       "    <tr>\n",
       "      <th>Cc1c(NC(=O)Nc2ccc(I)cc2)c(=O)n(-c2ccccc2)n1C;CHEMBL208884;-6</th>\n",
       "      <td>17932</td>\n",
       "    </tr>\n",
       "    <tr>\n",
       "      <th>CSc1ccc(NC(=O)Nc2c(C(C)C)n(C)n(-c3cnc4ccccc4c3)c2=O)cc1;CHEMBL379762;-6</th>\n",
       "      <td>91294</td>\n",
       "    </tr>\n",
       "    <tr>\n",
       "      <th>CC(C)c1c(NC(=O)Nc2ccc(Cl)cc2)c(=O)n(-c2ccccc2)n1C;CHEMBL379761;-6</th>\n",
       "      <td>15005</td>\n",
       "    </tr>\n",
       "  </tbody>\n",
       "</table>\n",
       "</div>"
      ],
      "text/plain": [
       "                                                    SMILES;ChEMBLID;docking_score\n",
       "CC(C)c1c(NC(=O)Nc2ccc(Cl)cc2)c(=O)n(-c2ccccc2)n...                          78994\n",
       "Cn1c(C(C)(C)C)c(NC(=O)Nc2ccc(Cl)cc2)c(=O)n1-c1c...                          45746\n",
       "Cc1c(NC(=O)Nc2ccc(I)cc2)c(=O)n(-c2ccccc2)n1C;CH...                          17932\n",
       "CSc1ccc(NC(=O)Nc2c(C(C)C)n(C)n(-c3cnc4ccccc4c3)...                          91294\n",
       "CC(C)c1c(NC(=O)Nc2ccc(Cl)cc2)c(=O)n(-c2ccccc2)n...                          15005"
      ]
     },
     "execution_count": 15,
     "metadata": {},
     "output_type": "execute_result"
    }
   ],
   "source": [
    "dockingData.head()\n"
   ]
  },
  {
   "cell_type": "code",
   "execution_count": 28,
   "id": "200aabca-60b3-4af8-a6ae-7e06b2c43c2d",
   "metadata": {},
   "outputs": [],
   "source": [
    "dockingData = dockingData.iloc[1:]\n",
    "#this is for drop the first row in the table"
   ]
  },
  {
   "cell_type": "code",
   "execution_count": 25,
   "id": "fd0c2ec8-3990-448b-99ca-e23671a2aa6d",
   "metadata": {},
   "outputs": [],
   "source": [
    "dockingData = dockingData.drop(\"SMILES\", axis=1)"
   ]
  },
  {
   "cell_type": "code",
   "execution_count": 29,
   "id": "f0f1353b-6a70-4db6-b77f-a10daedc9723",
   "metadata": {},
   "outputs": [
    {
     "data": {
      "text/html": [
       "<div>\n",
       "<style scoped>\n",
       "    .dataframe tbody tr th:only-of-type {\n",
       "        vertical-align: middle;\n",
       "    }\n",
       "\n",
       "    .dataframe tbody tr th {\n",
       "        vertical-align: top;\n",
       "    }\n",
       "\n",
       "    .dataframe thead th {\n",
       "        text-align: right;\n",
       "    }\n",
       "</style>\n",
       "<table border=\"1\" class=\"dataframe\">\n",
       "  <thead>\n",
       "    <tr style=\"text-align: right;\">\n",
       "      <th></th>\n",
       "      <th>ChEMBLID</th>\n",
       "      <th>docking_score</th>\n",
       "    </tr>\n",
       "  </thead>\n",
       "  <tbody>\n",
       "    <tr>\n",
       "      <th>1</th>\n",
       "      <td>CHEMBL377226</td>\n",
       "      <td>-6.45746</td>\n",
       "    </tr>\n",
       "    <tr>\n",
       "      <th>2</th>\n",
       "      <td>CHEMBL208884</td>\n",
       "      <td>-6.17932</td>\n",
       "    </tr>\n",
       "    <tr>\n",
       "      <th>3</th>\n",
       "      <td>CHEMBL379762</td>\n",
       "      <td>-6.91294</td>\n",
       "    </tr>\n",
       "    <tr>\n",
       "      <th>4</th>\n",
       "      <td>CHEMBL379761</td>\n",
       "      <td>-6.15005</td>\n",
       "    </tr>\n",
       "    <tr>\n",
       "      <th>5</th>\n",
       "      <td>CHEMBL211220</td>\n",
       "      <td>-6.17831</td>\n",
       "    </tr>\n",
       "  </tbody>\n",
       "</table>\n",
       "</div>"
      ],
      "text/plain": [
       "       ChEMBLID  docking_score\n",
       "1  CHEMBL377226       -6.45746\n",
       "2  CHEMBL208884       -6.17932\n",
       "3  CHEMBL379762       -6.91294\n",
       "4  CHEMBL379761       -6.15005\n",
       "5  CHEMBL211220       -6.17831"
      ]
     },
     "execution_count": 29,
     "metadata": {},
     "output_type": "execute_result"
    }
   ],
   "source": [
    "dockingData.head()"
   ]
  },
  {
   "cell_type": "code",
   "execution_count": 30,
   "id": "c48ffd17-9a76-41f9-9c08-9c451f0803fe",
   "metadata": {},
   "outputs": [
    {
     "data": {
      "text/html": [
       "<div>\n",
       "<style scoped>\n",
       "    .dataframe tbody tr th:only-of-type {\n",
       "        vertical-align: middle;\n",
       "    }\n",
       "\n",
       "    .dataframe tbody tr th {\n",
       "        vertical-align: top;\n",
       "    }\n",
       "\n",
       "    .dataframe thead th {\n",
       "        text-align: right;\n",
       "    }\n",
       "</style>\n",
       "<table border=\"1\" class=\"dataframe\">\n",
       "  <thead>\n",
       "    <tr style=\"text-align: right;\">\n",
       "      <th></th>\n",
       "      <th>ChEMBLID</th>\n",
       "      <th>Smiles</th>\n",
       "      <th>pChEMBL_Value</th>\n",
       "      <th>activity</th>\n",
       "      <th>Similarity</th>\n",
       "    </tr>\n",
       "  </thead>\n",
       "  <tbody>\n",
       "    <tr>\n",
       "      <th>0</th>\n",
       "      <td>CHEMBL379761</td>\n",
       "      <td>CC(C)c1c(NC(=O)Nc2ccc(Cl)cc2)c(=O)n(-c2ccccc2)n1C</td>\n",
       "      <td>7.389978975</td>\n",
       "      <td>active</td>\n",
       "      <td>100.0</td>\n",
       "    </tr>\n",
       "    <tr>\n",
       "      <th>1</th>\n",
       "      <td>CHEMBL379853</td>\n",
       "      <td>CC(C)c1c(NC(=O)Nc2ccc(Cl)cc2)c(=O)n(-c2cncnc2)n1C</td>\n",
       "      <td>6.602059991</td>\n",
       "      <td>partial_active</td>\n",
       "      <td>75.0</td>\n",
       "    </tr>\n",
       "    <tr>\n",
       "      <th>2</th>\n",
       "      <td>CHEMBL377169</td>\n",
       "      <td>CC(C)c1c(NC(=O)Nc2ccccc2Cl)c(=O)n(-c2ccccc2)n1C</td>\n",
       "      <td>5.0</td>\n",
       "      <td>partial_active</td>\n",
       "      <td>74.00000095</td>\n",
       "    </tr>\n",
       "    <tr>\n",
       "      <th>3</th>\n",
       "      <td>CHEMBL210298</td>\n",
       "      <td>Cc1c(NC(=O)Nc2ccc(Cl)cc2)c(=O)n(-c2ccccc2)n1C</td>\n",
       "      <td>6.30980392</td>\n",
       "      <td>partial_active</td>\n",
       "      <td>73.46938848</td>\n",
       "    </tr>\n",
       "    <tr>\n",
       "      <th>4</th>\n",
       "      <td>CHEMBL210303</td>\n",
       "      <td>CC(C)c1c(NC(=O)Nc2ccc(Cl)cc2)c(=O)n(-c2cnc3ccc...</td>\n",
       "      <td>7.096910013</td>\n",
       "      <td>partial_active</td>\n",
       "      <td>70.68965435</td>\n",
       "    </tr>\n",
       "  </tbody>\n",
       "</table>\n",
       "</div>"
      ],
      "text/plain": [
       "       ChEMBLID                                             Smiles  \\\n",
       "0  CHEMBL379761  CC(C)c1c(NC(=O)Nc2ccc(Cl)cc2)c(=O)n(-c2ccccc2)n1C   \n",
       "1  CHEMBL379853  CC(C)c1c(NC(=O)Nc2ccc(Cl)cc2)c(=O)n(-c2cncnc2)n1C   \n",
       "2  CHEMBL377169    CC(C)c1c(NC(=O)Nc2ccccc2Cl)c(=O)n(-c2ccccc2)n1C   \n",
       "3  CHEMBL210298      Cc1c(NC(=O)Nc2ccc(Cl)cc2)c(=O)n(-c2ccccc2)n1C   \n",
       "4  CHEMBL210303  CC(C)c1c(NC(=O)Nc2ccc(Cl)cc2)c(=O)n(-c2cnc3ccc...   \n",
       "\n",
       "  pChEMBL_Value        activity   Similarity  \n",
       "0   7.389978975          active        100.0  \n",
       "1   6.602059991  partial_active         75.0  \n",
       "2           5.0  partial_active  74.00000095  \n",
       "3    6.30980392  partial_active  73.46938848  \n",
       "4   7.096910013  partial_active  70.68965435  "
      ]
     },
     "execution_count": 30,
     "metadata": {},
     "output_type": "execute_result"
    }
   ],
   "source": [
    "finalMerged.head()"
   ]
  },
  {
   "cell_type": "code",
   "execution_count": 31,
   "id": "d6b5ceaf-3a24-47d4-8664-1d5e8d74d73f",
   "metadata": {},
   "outputs": [],
   "source": [
    "dockingMerged = finalMerged.merge(dockingData, on=\"ChEMBLID\", how=\"left\")"
   ]
  },
  {
   "cell_type": "code",
   "execution_count": 32,
   "id": "23abb210-3d4d-41a4-8359-3da5579b9011",
   "metadata": {},
   "outputs": [
    {
     "data": {
      "text/html": [
       "<div>\n",
       "<style scoped>\n",
       "    .dataframe tbody tr th:only-of-type {\n",
       "        vertical-align: middle;\n",
       "    }\n",
       "\n",
       "    .dataframe tbody tr th {\n",
       "        vertical-align: top;\n",
       "    }\n",
       "\n",
       "    .dataframe thead th {\n",
       "        text-align: right;\n",
       "    }\n",
       "</style>\n",
       "<table border=\"1\" class=\"dataframe\">\n",
       "  <thead>\n",
       "    <tr style=\"text-align: right;\">\n",
       "      <th></th>\n",
       "      <th>ChEMBLID</th>\n",
       "      <th>Smiles</th>\n",
       "      <th>pChEMBL_Value</th>\n",
       "      <th>activity</th>\n",
       "      <th>Similarity</th>\n",
       "      <th>docking_score</th>\n",
       "    </tr>\n",
       "  </thead>\n",
       "  <tbody>\n",
       "    <tr>\n",
       "      <th>0</th>\n",
       "      <td>CHEMBL379761</td>\n",
       "      <td>CC(C)c1c(NC(=O)Nc2ccc(Cl)cc2)c(=O)n(-c2ccccc2)n1C</td>\n",
       "      <td>7.389978975</td>\n",
       "      <td>active</td>\n",
       "      <td>100.0</td>\n",
       "      <td>-6.15005</td>\n",
       "    </tr>\n",
       "    <tr>\n",
       "      <th>1</th>\n",
       "      <td>CHEMBL379853</td>\n",
       "      <td>CC(C)c1c(NC(=O)Nc2ccc(Cl)cc2)c(=O)n(-c2cncnc2)n1C</td>\n",
       "      <td>6.602059991</td>\n",
       "      <td>partial_active</td>\n",
       "      <td>75.0</td>\n",
       "      <td>-6.38234</td>\n",
       "    </tr>\n",
       "    <tr>\n",
       "      <th>2</th>\n",
       "      <td>CHEMBL377169</td>\n",
       "      <td>CC(C)c1c(NC(=O)Nc2ccccc2Cl)c(=O)n(-c2ccccc2)n1C</td>\n",
       "      <td>5.0</td>\n",
       "      <td>partial_active</td>\n",
       "      <td>74.00000095</td>\n",
       "      <td>NaN</td>\n",
       "    </tr>\n",
       "    <tr>\n",
       "      <th>3</th>\n",
       "      <td>CHEMBL210298</td>\n",
       "      <td>Cc1c(NC(=O)Nc2ccc(Cl)cc2)c(=O)n(-c2ccccc2)n1C</td>\n",
       "      <td>6.30980392</td>\n",
       "      <td>partial_active</td>\n",
       "      <td>73.46938848</td>\n",
       "      <td>-6.61631</td>\n",
       "    </tr>\n",
       "    <tr>\n",
       "      <th>4</th>\n",
       "      <td>CHEMBL210303</td>\n",
       "      <td>CC(C)c1c(NC(=O)Nc2ccc(Cl)cc2)c(=O)n(-c2cnc3ccc...</td>\n",
       "      <td>7.096910013</td>\n",
       "      <td>partial_active</td>\n",
       "      <td>70.68965435</td>\n",
       "      <td>-6.76103</td>\n",
       "    </tr>\n",
       "  </tbody>\n",
       "</table>\n",
       "</div>"
      ],
      "text/plain": [
       "       ChEMBLID                                             Smiles  \\\n",
       "0  CHEMBL379761  CC(C)c1c(NC(=O)Nc2ccc(Cl)cc2)c(=O)n(-c2ccccc2)n1C   \n",
       "1  CHEMBL379853  CC(C)c1c(NC(=O)Nc2ccc(Cl)cc2)c(=O)n(-c2cncnc2)n1C   \n",
       "2  CHEMBL377169    CC(C)c1c(NC(=O)Nc2ccccc2Cl)c(=O)n(-c2ccccc2)n1C   \n",
       "3  CHEMBL210298      Cc1c(NC(=O)Nc2ccc(Cl)cc2)c(=O)n(-c2ccccc2)n1C   \n",
       "4  CHEMBL210303  CC(C)c1c(NC(=O)Nc2ccc(Cl)cc2)c(=O)n(-c2cnc3ccc...   \n",
       "\n",
       "  pChEMBL_Value        activity   Similarity  docking_score  \n",
       "0   7.389978975          active        100.0       -6.15005  \n",
       "1   6.602059991  partial_active         75.0       -6.38234  \n",
       "2           5.0  partial_active  74.00000095            NaN  \n",
       "3    6.30980392  partial_active  73.46938848       -6.61631  \n",
       "4   7.096910013  partial_active  70.68965435       -6.76103  "
      ]
     },
     "execution_count": 32,
     "metadata": {},
     "output_type": "execute_result"
    }
   ],
   "source": [
    "dockingMerged.head()"
   ]
  },
  {
   "cell_type": "code",
   "execution_count": 33,
   "id": "77393d46-31c7-4c3d-90de-9a8fd5848dee",
   "metadata": {},
   "outputs": [],
   "source": [
    "dockingMerged = dockingMerged.dropna(subset = \"docking_score\")"
   ]
  },
  {
   "cell_type": "code",
   "execution_count": 54,
   "id": "101c2676-d250-4e9b-9384-d8d7085415f0",
   "metadata": {},
   "outputs": [],
   "source": [
    "dockingMerged = dockingMerged.sort_values(\"docking_score\", ascending = [True])"
   ]
  },
  {
   "cell_type": "code",
   "execution_count": null,
   "id": "c680bb08-25e6-45e7-a610-1065de47efe3",
   "metadata": {},
   "outputs": [],
   "source": []
  },
  {
   "cell_type": "code",
   "execution_count": 56,
   "id": "7b3df652-4b0b-462c-a95d-739ca54ae967",
   "metadata": {},
   "outputs": [
    {
     "data": {
      "text/html": [
       "<div>\n",
       "<style scoped>\n",
       "    .dataframe tbody tr th:only-of-type {\n",
       "        vertical-align: middle;\n",
       "    }\n",
       "\n",
       "    .dataframe tbody tr th {\n",
       "        vertical-align: top;\n",
       "    }\n",
       "\n",
       "    .dataframe thead th {\n",
       "        text-align: right;\n",
       "    }\n",
       "</style>\n",
       "<table border=\"1\" class=\"dataframe\">\n",
       "  <thead>\n",
       "    <tr style=\"text-align: right;\">\n",
       "      <th></th>\n",
       "      <th>ChEMBLID</th>\n",
       "      <th>Smiles</th>\n",
       "      <th>pChEMBL_Value</th>\n",
       "      <th>activity</th>\n",
       "      <th>Similarity</th>\n",
       "      <th>docking_score</th>\n",
       "    </tr>\n",
       "  </thead>\n",
       "  <tbody>\n",
       "    <tr>\n",
       "      <th>20</th>\n",
       "      <td>CHEMBL377642</td>\n",
       "      <td>COc1ccc(NC(=O)Nc2c(C)n(C)n(-c3ccccc3)c2=O)cc1</td>\n",
       "      <td>5.563837353</td>\n",
       "      <td>partial_active</td>\n",
       "      <td>55.3571403</td>\n",
       "      <td>-5.50875</td>\n",
       "    </tr>\n",
       "    <tr>\n",
       "      <th>8</th>\n",
       "      <td>CHEMBL380160</td>\n",
       "      <td>Cc1c(NC(=O)Nc2ccc(C(C)C)cc2)c(=O)n(-c2ccccc2)n1C</td>\n",
       "      <td>4.910094889</td>\n",
       "      <td>inactive</td>\n",
       "      <td>67.30769277</td>\n",
       "      <td>-5.19986</td>\n",
       "    </tr>\n",
       "  </tbody>\n",
       "</table>\n",
       "</div>"
      ],
      "text/plain": [
       "        ChEMBLID                                            Smiles  \\\n",
       "20  CHEMBL377642     COc1ccc(NC(=O)Nc2c(C)n(C)n(-c3ccccc3)c2=O)cc1   \n",
       "8   CHEMBL380160  Cc1c(NC(=O)Nc2ccc(C(C)C)cc2)c(=O)n(-c2ccccc2)n1C   \n",
       "\n",
       "   pChEMBL_Value        activity   Similarity  docking_score  \n",
       "20   5.563837353  partial_active   55.3571403       -5.50875  \n",
       "8    4.910094889        inactive  67.30769277       -5.19986  "
      ]
     },
     "execution_count": 56,
     "metadata": {},
     "output_type": "execute_result"
    }
   ],
   "source": [
    "dockingMerged.tail(2)"
   ]
  },
  {
   "cell_type": "code",
   "execution_count": 83,
   "id": "e6d054e1-f6b2-4c70-8955-3808e6e878cb",
   "metadata": {},
   "outputs": [],
   "source": [
    "dockingMerged = dockingMerged.sort_values(\"pChEMBL_Value\", ascending =[True])"
   ]
  },
  {
   "cell_type": "code",
   "execution_count": 84,
   "id": "a043ef50-d0ad-4141-ab8c-b516471ecbc7",
   "metadata": {},
   "outputs": [],
   "source": [
    "pChemblValue_array = dockingMerged[\"pChEMBL_Value\"].to_numpy()"
   ]
  },
  {
   "cell_type": "code",
   "execution_count": 85,
   "id": "143a74b0-ad41-4c46-bc98-50967a72ce13",
   "metadata": {},
   "outputs": [
    {
     "name": "stdout",
     "output_type": "stream",
     "text": [
      "['4.910094889' '5.230622674' '5.289882635' '5.314258261' '5.431798276'\n",
      " '5.563837353' '5.832682665' '5.899629455' '6.008773924' '6.113509275'\n",
      " '6.26760624' '6.30980392' '6.508638306' '6.602059991' '6.769551079'\n",
      " '6.823908741' '6.853871964' '7.0' '7.0' '7.045757491' '7.080921908'\n",
      " '7.091514981' '7.096910013' '7.356547324' '7.366531544' '7.389978975'\n",
      " '7.522878745' '7.522878745' '7.638272164']\n"
     ]
    }
   ],
   "source": [
    "print(pChemblValue_array)"
   ]
  },
  {
   "cell_type": "code",
   "execution_count": 86,
   "id": "27faabca-d885-45a9-b976-1a024b05b46d",
   "metadata": {},
   "outputs": [],
   "source": [
    "dockingScore_array = dockingMerged[\"docking_score\"].to_numpy()"
   ]
  },
  {
   "cell_type": "code",
   "execution_count": 87,
   "id": "cf052e9c-b04e-4c5b-a726-3d6f4c823ba9",
   "metadata": {},
   "outputs": [
    {
     "name": "stdout",
     "output_type": "stream",
     "text": [
      "[-5.19986 -6.10393 -7.35666 -6.33202 -6.74491 -5.50875 -7.41252 -6.31815\n",
      " -6.23326 -6.29508 -6.59195 -6.61631 -6.20057 -6.38234 -6.24913 -7.21987\n",
      " -6.27466 -5.91999 -6.80953 -6.2172  -6.55223 -5.9473  -6.76103 -6.99069\n",
      " -6.17831 -6.15005 -6.91294 -6.17932 -6.45746]\n"
     ]
    }
   ],
   "source": [
    "print(dockingScore_array)"
   ]
  },
  {
   "cell_type": "code",
   "execution_count": 88,
   "id": "9a1a4a94-0ead-4509-96e9-b28c215072dc",
   "metadata": {},
   "outputs": [],
   "source": [
    "similarityLabel = dockingMerged[\"Similarity\"].to_numpy()"
   ]
  },
  {
   "cell_type": "code",
   "execution_count": 89,
   "id": "5e5be88d-6cf0-4f6d-a2ac-b86a11279631",
   "metadata": {},
   "outputs": [
    {
     "name": "stdout",
     "output_type": "stream",
     "text": [
      "['67.30769277' '48.38709533' '49.23076928' '57.40740895' '54.38596606'\n",
      " '55.3571403' '48.48484993' '59.61538553' '50.84745884' '55.3571403'\n",
      " '63.79310489' '73.46938848' '47.61904776' '75.0' '55.3571403'\n",
      " '56.66666627' '69.23077106' '52.38095522' '54.38596606' '57.40740895'\n",
      " '47.61904776' '69.09090877' '70.68965435' '54.54545617' '57.62711763'\n",
      " '100.0' '55.38461804' '57.40740895' '69.23077106']\n"
     ]
    }
   ],
   "source": [
    "print(similarityLabel)"
   ]
  },
  {
   "cell_type": "code",
   "execution_count": 70,
   "id": "60dc66f9-42f4-4360-9864-04296726d38b",
   "metadata": {},
   "outputs": [
    {
     "data": {
      "text/plain": [
       "<matplotlib.collections.PathCollection at 0x179aeca10>"
      ]
     },
     "execution_count": 70,
     "metadata": {},
     "output_type": "execute_result"
    },
    {
     "data": {
      "image/png": "[encoded data removed]",
      "text/plain": [
       "<Figure size 640x480 with 1 Axes>"
      ]
     },
     "metadata": {},
     "output_type": "display_data"
    }
   ],
   "source": [
    "plt.scatter(pChemblValue_array, dockingScore_array)"
   ]
  },
  {
   "cell_type": "code",
   "execution_count": 78,
   "id": "7e3c5cde-b192-4273-902e-079f10add652",
   "metadata": {},
   "outputs": [
    {
     "name": "stdout",
     "output_type": "stream",
     "text": [
      "['67.30769277' '48.38709533' '49.23076928' '57.40740895' '54.38596606'\n",
      " '55.3571403' '48.48484993' '59.61538553' '50.84745884' '55.3571403'\n",
      " '63.79310489' '73.46938848' '47.61904776' '75.0' '55.3571403'\n",
      " '56.66666627' '69.23077106' '52.38095522' '54.38596606' '57.40740895'\n",
      " '47.61904776' '69.09090877' '70.68965435' '54.54545617' '57.62711763'\n",
      " '100.0' '55.38461804' '57.40740895' '69.23077106']\n"
     ]
    }
   ],
   "source": [
    "print(similarityLabel)"
   ]
  },
  {
   "cell_type": "code",
   "execution_count": 90,
   "id": "fc7ac827-1198-44a9-9b26-126269d2a55c",
   "metadata": {},
   "outputs": [],
   "source": [
    "ChemblID_array = dockingMerged[\"ChEMBLID\"].to_numpy()"
   ]
  },
  {
   "cell_type": "code",
   "execution_count": 97,
   "id": "665fd022-d06b-402c-8cf9-8e1c63b6ad63",
   "metadata": {},
   "outputs": [],
   "source": [
    "similarityLabel = [float(num) for num in similarityLabel]"
   ]
  },
  {
   "cell_type": "code",
   "execution_count": 98,
   "id": "a1088182-3473-415a-ab72-f77832c993a7",
   "metadata": {},
   "outputs": [
    {
     "name": "stdout",
     "output_type": "stream",
     "text": [
      "[67.30769277, 48.38709533, 49.23076928, 57.40740895, 54.38596606, 55.3571403, 48.48484993, 59.61538553, 50.84745884, 55.3571403, 63.79310489, 73.46938848, 47.61904776, 75.0, 55.3571403, 56.66666627, 69.23077106, 52.38095522, 54.38596606, 57.40740895, 47.61904776, 69.09090877, 70.68965435, 54.54545617, 57.62711763, 100.0, 55.38461804, 57.40740895, 69.23077106]\n"
     ]
    }
   ],
   "source": [
    "print(similarityLabel)"
   ]
  },
  {
   "cell_type": "code",
   "execution_count": 99,
   "id": "e0de55e8-5813-4d6e-ac09-859aaef1245c",
   "metadata": {},
   "outputs": [],
   "source": [
    "similarityLabel_array = [round(num,2) for num in similarityLabel]"
   ]
  },
  {
   "cell_type": "code",
   "execution_count": 100,
   "id": "42888550-1182-4285-a3e1-c6a1c83408a0",
   "metadata": {},
   "outputs": [
    {
     "name": "stdout",
     "output_type": "stream",
     "text": [
      "[67.31, 48.39, 49.23, 57.41, 54.39, 55.36, 48.48, 59.62, 50.85, 55.36, 63.79, 73.47, 47.62, 75.0, 55.36, 56.67, 69.23, 52.38, 54.39, 57.41, 47.62, 69.09, 70.69, 54.55, 57.63, 100.0, 55.38, 57.41, 69.23]\n"
     ]
    }
   ],
   "source": [
    "print(similarityLabel_array)"
   ]
  },
  {
   "cell_type": "code",
   "execution_count": 101,
   "id": "0e3062cf-75dd-4f44-8138-f0fc22d14ed4",
   "metadata": {},
   "outputs": [
    {
     "name": "stdout",
     "output_type": "stream",
     "text": [
      "['4.910094889' '5.230622674' '5.289882635' '5.314258261' '5.431798276'\n",
      " '5.563837353' '5.832682665' '5.899629455' '6.008773924' '6.113509275'\n",
      " '6.26760624' '6.30980392' '6.508638306' '6.602059991' '6.769551079'\n",
      " '6.823908741' '6.853871964' '7.0' '7.0' '7.045757491' '7.080921908'\n",
      " '7.091514981' '7.096910013' '7.356547324' '7.366531544' '7.389978975'\n",
      " '7.522878745' '7.522878745' '7.638272164']\n"
     ]
    }
   ],
   "source": [
    "print(pChemblValue_array)"
   ]
  },
  {
   "cell_type": "code",
   "execution_count": 102,
   "id": "0338149d-c94a-4870-902d-b6377e4a119b",
   "metadata": {},
   "outputs": [],
   "source": [
    "pChemblValue_array = [float(num) for num in pChemblValue_array]"
   ]
  },
  {
   "cell_type": "code",
   "execution_count": 103,
   "id": "8a59781d-e9e2-4188-9afd-484a312581af",
   "metadata": {},
   "outputs": [],
   "source": [
    "pChemblValue_array = [round(num, 2) for num in pChemblValue_array]"
   ]
  },
  {
   "cell_type": "code",
   "execution_count": 215,
   "id": "06de90da-ee1a-49f3-90ad-09be39107f71",
   "metadata": {},
   "outputs": [],
   "source": [
    "data = {\n",
    "    \"x\":pChemblValue_array, \"y\":dockingScore_array, \"label\":similarityLabel_array, \"Hover\":ChemblID_array\n",
    "    \n",
    "}"
   ]
  },
  {
   "cell_type": "code",
   "execution_count": 216,
   "id": "9f954262-d29b-40c5-b88c-bc8fd18e04fa",
   "metadata": {},
   "outputs": [],
   "source": [
    "source = ColumnDataSource(data)"
   ]
  },
  {
   "cell_type": "code",
   "execution_count": 217,
   "id": "a5cb7f60-cfb2-4834-a627-8854d3c3c904",
   "metadata": {},
   "outputs": [],
   "source": [
    "p = figure(title=\"Docking Plot\", x_axis_label=\"pChEMBL Value\", y_axis_label=\"Glide Binding Energy\")\n"
   ]
  },
  {
   "cell_type": "code",
   "execution_count": 218,
   "id": "f1030c57-18e6-4d07-ba4a-fc2cb430b97e",
   "metadata": {},
   "outputs": [
    {
     "data": {
      "text/html": [
       "<div style=\"display: table;\"><div style=\"display: table-row;\"><div style=\"display: table-cell;\"><b title=\"bokeh.models.renderers.glyph_renderer.GlyphRenderer\">GlyphRenderer</b>(</div><div style=\"display: table-cell;\">id&nbsp;=&nbsp;'p1437', <span id=\"p1443\" style=\"cursor: pointer;\">&hellip;)</span></div></div><div class=\"p1442\" style=\"display: none;\"><div style=\"display: table-cell;\"></div><div style=\"display: table-cell;\">coordinates&nbsp;=&nbsp;None,</div></div><div class=\"p1442\" style=\"display: none;\"><div style=\"display: table-cell;\"></div><div style=\"display: table-cell;\">data_source&nbsp;=&nbsp;ColumnDataSource(id='p1399', ...),</div></div><div class=\"p1442\" style=\"display: none;\"><div style=\"display: table-cell;\"></div><div style=\"display: table-cell;\">glyph&nbsp;=&nbsp;Scatter(id='p1434', ...),</div></div><div class=\"p1442\" style=\"display: none;\"><div style=\"display: table-cell;\"></div><div style=\"display: table-cell;\">group&nbsp;=&nbsp;None,</div></div><div class=\"p1442\" style=\"display: none;\"><div style=\"display: table-cell;\"></div><div style=\"display: table-cell;\">hover_glyph&nbsp;=&nbsp;None,</div></div><div class=\"p1442\" style=\"display: none;\"><div style=\"display: table-cell;\"></div><div style=\"display: table-cell;\">js_event_callbacks&nbsp;=&nbsp;{},</div></div><div class=\"p1442\" style=\"display: none;\"><div style=\"display: table-cell;\"></div><div style=\"display: table-cell;\">js_property_callbacks&nbsp;=&nbsp;{},</div></div><div class=\"p1442\" style=\"display: none;\"><div style=\"display: table-cell;\"></div><div style=\"display: table-cell;\">level&nbsp;=&nbsp;'glyph',</div></div><div class=\"p1442\" style=\"display: none;\"><div style=\"display: table-cell;\"></div><div style=\"display: table-cell;\">muted&nbsp;=&nbsp;False,</div></div><div class=\"p1442\" style=\"display: none;\"><div style=\"display: table-cell;\"></div><div style=\"display: table-cell;\">muted_glyph&nbsp;=&nbsp;Scatter(id='p1436', ...),</div></div><div class=\"p1442\" style=\"display: none;\"><div style=\"display: table-cell;\"></div><div style=\"display: table-cell;\">name&nbsp;=&nbsp;None,</div></div><div class=\"p1442\" style=\"display: none;\"><div style=\"display: table-cell;\"></div><div style=\"display: table-cell;\">nonselection_glyph&nbsp;=&nbsp;Scatter(id='p1435', ...),</div></div><div class=\"p1442\" style=\"display: none;\"><div style=\"display: table-cell;\"></div><div style=\"display: table-cell;\">propagate_hover&nbsp;=&nbsp;False,</div></div><div class=\"p1442\" style=\"display: none;\"><div style=\"display: table-cell;\"></div><div style=\"display: table-cell;\">selection_glyph&nbsp;=&nbsp;'auto',</div></div><div class=\"p1442\" style=\"display: none;\"><div style=\"display: table-cell;\"></div><div style=\"display: table-cell;\">subscribed_events&nbsp;=&nbsp;PropertyValueSet(),</div></div><div class=\"p1442\" style=\"display: none;\"><div style=\"display: table-cell;\"></div><div style=\"display: table-cell;\">syncable&nbsp;=&nbsp;True,</div></div><div class=\"p1442\" style=\"display: none;\"><div style=\"display: table-cell;\"></div><div style=\"display: table-cell;\">tags&nbsp;=&nbsp;[],</div></div><div class=\"p1442\" style=\"display: none;\"><div style=\"display: table-cell;\"></div><div style=\"display: table-cell;\">view&nbsp;=&nbsp;CDSView(id='p1438', ...),</div></div><div class=\"p1442\" style=\"display: none;\"><div style=\"display: table-cell;\"></div><div style=\"display: table-cell;\">visible&nbsp;=&nbsp;True,</div></div><div class=\"p1442\" style=\"display: none;\"><div style=\"display: table-cell;\"></div><div style=\"display: table-cell;\">x_range_name&nbsp;=&nbsp;'default',</div></div><div class=\"p1442\" style=\"display: none;\"><div style=\"display: table-cell;\"></div><div style=\"display: table-cell;\">y_range_name&nbsp;=&nbsp;'default')</div></div></div>\n",
       "<script>\n",
       "(function() {\n",
       "  let expanded = false;\n",
       "  const ellipsis = document.getElementById(\"p1443\");\n",
       "  ellipsis.addEventListener(\"click\", function() {\n",
       "    const rows = document.getElementsByClassName(\"p1442\");\n",
       "    for (let i = 0; i < rows.length; i++) {\n",
       "      const el = rows[i];\n",
       "      el.style.display = expanded ? \"none\" : \"table-row\";\n",
       "    }\n",
       "    ellipsis.innerHTML = expanded ? \"&hellip;)\" : \"&lsaquo;&lsaquo;&lsaquo;\";\n",
       "    expanded = !expanded;\n",
       "  });\n",
       "})();\n",
       "</script>\n"
      ],
      "text/plain": [
       "GlyphRenderer(id='p1437', ...)"
      ]
     },
     "execution_count": 218,
     "metadata": {},
     "output_type": "execute_result"
    }
   ],
   "source": [
    "p.star(x='x', y='y', source=source, size=10, color=\"blue\", legend_label=\"Similarity\")"
   ]
  },
  {
   "cell_type": "code",
   "execution_count": 219,
   "id": "f5f24737-4ffb-4fb0-bd63-c20c8e50e08a",
   "metadata": {},
   "outputs": [],
   "source": [
    "hover = HoverTool()\n",
    "hover.tooltips = [(\"ID:\",\"@Hover\")]\n",
    "p.add_tools(hover)"
   ]
  },
  {
   "cell_type": "code",
   "execution_count": 220,
   "id": "6a3f397b-e00b-47a7-9b6c-a4392f4c4af3",
   "metadata": {},
   "outputs": [],
   "source": [
    "labels = LabelSet(x='x', y='y', text='label', source=source, text_font_size=\"5pt\", y_offset=5)\n",
    "p.add_layout(labels)"
   ]
  },
  {
   "cell_type": "code",
   "execution_count": null,
   "id": "f605b085-7f9a-44ff-9e44-cd3f780da1af",
   "metadata": {},
   "outputs": [],
   "source": []
  },
  {
   "cell_type": "code",
   "execution_count": 221,
   "id": "cb6868c4-dbf7-4056-8f41-be0b81abd349",
   "metadata": {},
   "outputs": [],
   "source": [
    "output_file(\"scatter_plot.html\")"
   ]
  },
  {
   "cell_type": "code",
   "execution_count": 222,
   "id": "652361ef-6328-4f01-aa0b-6ea79a841bed",
   "metadata": {},
   "outputs": [],
   "source": [
    "show(p)"
   ]
  },
  {
   "cell_type": "code",
   "execution_count": null,
   "id": "23b2c712-1233-4113-96a2-32ff4ac4ef26",
   "metadata": {},
   "outputs": [],
   "source": []
  }
 ],
 "metadata": {
  "kernelspec": {
   "display_name": "Python 3 (ipykernel)",
   "language": "python",
   "name": "python3"
  },
  "language_info": {
   "codemirror_mode": {
    "name": "ipython",
    "version": 3
   },
   "file_extension": ".py",
   "mimetype": "text/x-python",
   "name": "python",
   "nbconvert_exporter": "python",
   "pygments_lexer": "ipython3",
   "version": "3.11.5"
  }
 },
 "nbformat": 4,
 "nbformat_minor": 5
}
